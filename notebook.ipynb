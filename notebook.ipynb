{
 "cells": [
  {
   "cell_type": "code",
   "execution_count": 1,
   "id": "7f986297",
   "metadata": {
    "colab": {
     "base_uri": "https://localhost:8080/",
     "height": 206
    },
    "id": "7f986297",
    "outputId": "d4500e6d-5661-44ea-d9b0-ca72f699e83a",
    "papermill": {
     "duration": 0.093748,
     "end_time": "2021-12-20T12:56:06.503142",
     "exception": false,
     "start_time": "2021-12-20T12:56:06.409394",
     "status": "completed"
    },
    "tags": []
   },
   "outputs": [
    {
     "name": "stderr",
     "output_type": "stream",
     "text": [
      "C:\\Users\\tungb\\anaconda3\\lib\\site-packages\\numpy\\_distributor_init.py:30: UserWarning: loaded more than 1 DLL from .libs:\n",
      "C:\\Users\\tungb\\anaconda3\\lib\\site-packages\\numpy\\.libs\\libopenblas.EL2C6PLE4ZYW3ECEVIV3OXXGRN2NRFM2.gfortran-win_amd64.dll\n",
      "C:\\Users\\tungb\\anaconda3\\lib\\site-packages\\numpy\\.libs\\libopenblas.FB5AE2TYXYH2IJRDKGDGQ3XBKLKTF43H.gfortran-win_amd64.dll\n",
      "  warnings.warn(\"loaded more than 1 DLL from .libs:\"\n"
     ]
    },
    {
     "data": {
      "text/html": [
       "<div>\n",
       "<style scoped>\n",
       "    .dataframe tbody tr th:only-of-type {\n",
       "        vertical-align: middle;\n",
       "    }\n",
       "\n",
       "    .dataframe tbody tr th {\n",
       "        vertical-align: top;\n",
       "    }\n",
       "\n",
       "    .dataframe thead th {\n",
       "        text-align: right;\n",
       "    }\n",
       "</style>\n",
       "<table border=\"1\" class=\"dataframe\">\n",
       "  <thead>\n",
       "    <tr style=\"text-align: right;\">\n",
       "      <th></th>\n",
       "      <th>id</th>\n",
       "      <th>keyword</th>\n",
       "      <th>location</th>\n",
       "      <th>text</th>\n",
       "      <th>target</th>\n",
       "    </tr>\n",
       "  </thead>\n",
       "  <tbody>\n",
       "    <tr>\n",
       "      <th>0</th>\n",
       "      <td>1</td>\n",
       "      <td>NaN</td>\n",
       "      <td>NaN</td>\n",
       "      <td>Our Deeds are the Reason of this #earthquake M...</td>\n",
       "      <td>1</td>\n",
       "    </tr>\n",
       "    <tr>\n",
       "      <th>1</th>\n",
       "      <td>4</td>\n",
       "      <td>NaN</td>\n",
       "      <td>NaN</td>\n",
       "      <td>Forest fire near La Ronge Sask. Canada</td>\n",
       "      <td>1</td>\n",
       "    </tr>\n",
       "    <tr>\n",
       "      <th>2</th>\n",
       "      <td>5</td>\n",
       "      <td>NaN</td>\n",
       "      <td>NaN</td>\n",
       "      <td>All residents asked to 'shelter in place' are ...</td>\n",
       "      <td>1</td>\n",
       "    </tr>\n",
       "    <tr>\n",
       "      <th>3</th>\n",
       "      <td>6</td>\n",
       "      <td>NaN</td>\n",
       "      <td>NaN</td>\n",
       "      <td>13,000 people receive #wildfires evacuation or...</td>\n",
       "      <td>1</td>\n",
       "    </tr>\n",
       "    <tr>\n",
       "      <th>4</th>\n",
       "      <td>7</td>\n",
       "      <td>NaN</td>\n",
       "      <td>NaN</td>\n",
       "      <td>Just got sent this photo from Ruby #Alaska as ...</td>\n",
       "      <td>1</td>\n",
       "    </tr>\n",
       "  </tbody>\n",
       "</table>\n",
       "</div>"
      ],
      "text/plain": [
       "   id keyword location                                               text  \\\n",
       "0   1     NaN      NaN  Our Deeds are the Reason of this #earthquake M...   \n",
       "1   4     NaN      NaN             Forest fire near La Ronge Sask. Canada   \n",
       "2   5     NaN      NaN  All residents asked to 'shelter in place' are ...   \n",
       "3   6     NaN      NaN  13,000 people receive #wildfires evacuation or...   \n",
       "4   7     NaN      NaN  Just got sent this photo from Ruby #Alaska as ...   \n",
       "\n",
       "   target  \n",
       "0       1  \n",
       "1       1  \n",
       "2       1  \n",
       "3       1  \n",
       "4       1  "
      ]
     },
     "execution_count": 1,
     "metadata": {},
     "output_type": "execute_result"
    }
   ],
   "source": [
    "import pandas as pd\n",
    "import warnings\n",
    "warnings.filterwarnings(\"ignore\")\n",
    "df = pd.read_csv('train.csv')\n",
    "df.head()"
   ]
  },
  {
   "cell_type": "code",
   "execution_count": 2,
   "id": "61ed4887",
   "metadata": {
    "colab": {
     "base_uri": "https://localhost:8080/"
    },
    "id": "61ed4887",
    "outputId": "19df3ea2-6c43-47da-ce5c-dc8136281bb4"
   },
   "outputs": [
    {
     "data": {
      "text/plain": [
       "(7613, 5)"
      ]
     },
     "execution_count": 2,
     "metadata": {},
     "output_type": "execute_result"
    }
   ],
   "source": [
    "df.shape"
   ]
  },
  {
   "cell_type": "code",
   "execution_count": 3,
   "id": "757919d5",
   "metadata": {
    "colab": {
     "base_uri": "https://localhost:8080/"
    },
    "id": "757919d5",
    "outputId": "21d09098-52f2-436d-864a-7a73cc2359ca"
   },
   "outputs": [
    {
     "data": {
      "text/plain": [
       "0"
      ]
     },
     "execution_count": 3,
     "metadata": {},
     "output_type": "execute_result"
    }
   ],
   "source": [
    "sum(df.duplicated())"
   ]
  },
  {
   "cell_type": "code",
   "execution_count": 4,
   "id": "6ac83c36",
   "metadata": {
    "colab": {
     "base_uri": "https://localhost:8080/"
    },
    "id": "6ac83c36",
    "outputId": "d148f4da-9db4-42b6-dde3-11fca979baa5"
   },
   "outputs": [
    {
     "data": {
      "text/plain": [
       "id          0.000000\n",
       "keyword     0.008013\n",
       "location    0.332720\n",
       "text        0.000000\n",
       "target      0.000000\n",
       "dtype: float64"
      ]
     },
     "execution_count": 4,
     "metadata": {},
     "output_type": "execute_result"
    }
   ],
   "source": [
    "df.isnull().sum() / len(df)"
   ]
  },
  {
   "cell_type": "code",
   "execution_count": 5,
   "id": "cbc97948",
   "metadata": {
    "colab": {
     "base_uri": "https://localhost:8080/",
     "height": 206
    },
    "id": "cbc97948",
    "outputId": "faceb3d4-85f9-4296-bcae-9edbca1c23f6",
    "papermill": {
     "duration": 0.046365,
     "end_time": "2021-12-20T12:56:06.581702",
     "exception": false,
     "start_time": "2021-12-20T12:56:06.535337",
     "status": "completed"
    },
    "tags": []
   },
   "outputs": [
    {
     "data": {
      "text/html": [
       "<div>\n",
       "<style scoped>\n",
       "    .dataframe tbody tr th:only-of-type {\n",
       "        vertical-align: middle;\n",
       "    }\n",
       "\n",
       "    .dataframe tbody tr th {\n",
       "        vertical-align: top;\n",
       "    }\n",
       "\n",
       "    .dataframe thead th {\n",
       "        text-align: right;\n",
       "    }\n",
       "</style>\n",
       "<table border=\"1\" class=\"dataframe\">\n",
       "  <thead>\n",
       "    <tr style=\"text-align: right;\">\n",
       "      <th></th>\n",
       "      <th>id</th>\n",
       "      <th>text</th>\n",
       "      <th>target</th>\n",
       "    </tr>\n",
       "  </thead>\n",
       "  <tbody>\n",
       "    <tr>\n",
       "      <th>0</th>\n",
       "      <td>1</td>\n",
       "      <td>Our Deeds are the Reason of this #earthquake M...</td>\n",
       "      <td>1</td>\n",
       "    </tr>\n",
       "    <tr>\n",
       "      <th>1</th>\n",
       "      <td>4</td>\n",
       "      <td>Forest fire near La Ronge Sask. Canada</td>\n",
       "      <td>1</td>\n",
       "    </tr>\n",
       "    <tr>\n",
       "      <th>2</th>\n",
       "      <td>5</td>\n",
       "      <td>All residents asked to 'shelter in place' are ...</td>\n",
       "      <td>1</td>\n",
       "    </tr>\n",
       "    <tr>\n",
       "      <th>3</th>\n",
       "      <td>6</td>\n",
       "      <td>13,000 people receive #wildfires evacuation or...</td>\n",
       "      <td>1</td>\n",
       "    </tr>\n",
       "    <tr>\n",
       "      <th>4</th>\n",
       "      <td>7</td>\n",
       "      <td>Just got sent this photo from Ruby #Alaska as ...</td>\n",
       "      <td>1</td>\n",
       "    </tr>\n",
       "  </tbody>\n",
       "</table>\n",
       "</div>"
      ],
      "text/plain": [
       "   id                                               text  target\n",
       "0   1  Our Deeds are the Reason of this #earthquake M...       1\n",
       "1   4             Forest fire near La Ronge Sask. Canada       1\n",
       "2   5  All residents asked to 'shelter in place' are ...       1\n",
       "3   6  13,000 people receive #wildfires evacuation or...       1\n",
       "4   7  Just got sent this photo from Ruby #Alaska as ...       1"
      ]
     },
     "execution_count": 5,
     "metadata": {},
     "output_type": "execute_result"
    }
   ],
   "source": [
    "df = df.drop(columns=['keyword', 'location'])\n",
    "df.head()"
   ]
  },
  {
   "cell_type": "code",
   "execution_count": 6,
   "id": "fac54090",
   "metadata": {
    "id": "fac54090",
    "papermill": {
     "duration": 0.044447,
     "end_time": "2021-12-20T12:56:06.732783",
     "exception": false,
     "start_time": "2021-12-20T12:56:06.688336",
     "status": "completed"
    },
    "tags": []
   },
   "outputs": [],
   "source": [
    "import seaborn as sns\n",
    "import matplotlib.pyplot as plt"
   ]
  },
  {
   "cell_type": "code",
   "execution_count": 7,
   "id": "K0vzwU2JjmQF",
   "metadata": {
    "colab": {
     "base_uri": "https://localhost:8080/"
    },
    "id": "K0vzwU2JjmQF",
    "outputId": "069e0987-db48-4e0b-dee0-813cbe0eb315"
   },
   "outputs": [
    {
     "data": {
      "text/plain": [
       "0    4342\n",
       "1    3271\n",
       "Name: target, dtype: int64"
      ]
     },
     "execution_count": 7,
     "metadata": {},
     "output_type": "execute_result"
    }
   ],
   "source": [
    "df['target'].value_counts()"
   ]
  },
  {
   "cell_type": "code",
   "execution_count": 8,
   "id": "4d8c930c",
   "metadata": {
    "colab": {
     "base_uri": "https://localhost:8080/",
     "height": 472
    },
    "id": "4d8c930c",
    "outputId": "b6956a6d-7105-483b-b28b-7864ef64aaa1",
    "papermill": {
     "duration": 0.052793,
     "end_time": "2021-12-20T12:56:06.817626",
     "exception": false,
     "start_time": "2021-12-20T12:56:06.764833",
     "status": "completed"
    },
    "tags": []
   },
   "outputs": [
    {
     "data": {
      "image/png": "[encoded data removed]",
      "text/plain": [
       "<Figure size 640x480 with 1 Axes>"
      ]
     },
     "metadata": {},
     "output_type": "display_data"
    }
   ],
   "source": [
    "sns.countplot(data=df, x='target')\n",
    "plt.title(\"Count of Target Variable\")\n",
    "plt.show()"
   ]
  },
  {
   "cell_type": "code",
   "execution_count": 9,
   "id": "88807750",
   "metadata": {
    "id": "88807750",
    "papermill": {
     "duration": 0.043444,
     "end_time": "2021-12-20T12:56:06.966430",
     "exception": false,
     "start_time": "2021-12-20T12:56:06.922986",
     "status": "completed"
    },
    "tags": []
   },
   "outputs": [],
   "source": [
    "df['text']=df['text'].apply(lambda x: x.lower())"
   ]
  },
  {
   "cell_type": "code",
   "execution_count": 10,
   "id": "704fc323",
   "metadata": {
    "id": "704fc323",
    "papermill": {
     "duration": 0.044358,
     "end_time": "2021-12-20T12:56:07.043305",
     "exception": false,
     "start_time": "2021-12-20T12:56:06.998947",
     "status": "completed"
    },
    "tags": []
   },
   "outputs": [],
   "source": [
    "df['text']=df['text'].apply(lambda x: x.replace(\"#\", \"\"))"
   ]
  },
  {
   "cell_type": "code",
   "execution_count": 11,
   "id": "9b9e70b2",
   "metadata": {
    "id": "9b9e70b2"
   },
   "outputs": [],
   "source": [
    "import re"
   ]
  },
  {
   "cell_type": "markdown",
   "id": "21472bc3",
   "metadata": {
    "id": "21472bc3"
   },
   "source": [
    "Xóa tag tên:"
   ]
  },
  {
   "cell_type": "code",
   "execution_count": 12,
   "id": "39ddd7c1",
   "metadata": {
    "id": "39ddd7c1"
   },
   "outputs": [],
   "source": [
    "df['text'] = df['text'].apply(lambda x: re.sub(r'@\\w+\\s*', '', x))"
   ]
  },
  {
   "cell_type": "code",
   "execution_count": 13,
   "id": "492d6f5a",
   "metadata": {
    "id": "492d6f5a"
   },
   "outputs": [],
   "source": [
    "df['text'] = df['text'].apply(lambda x: re.sub(r'http\\S+|www\\S+', '', x))"
   ]
  },
  {
   "cell_type": "code",
   "execution_count": 14,
   "id": "fee606ca",
   "metadata": {
    "id": "fee606ca",
    "papermill": {
     "duration": 0.135113,
     "end_time": "2021-12-20T12:56:07.369648",
     "exception": false,
     "start_time": "2021-12-20T12:56:07.234535",
     "status": "completed"
    },
    "tags": []
   },
   "outputs": [],
   "source": [
    "df['text'] = df['text'].apply(lambda x: re.sub(r'[^\\w\\s]', '', x))"
   ]
  },
  {
   "cell_type": "code",
   "execution_count": 15,
   "id": "db7c7495",
   "metadata": {
    "id": "db7c7495",
    "papermill": {
     "duration": 0.07143,
     "end_time": "2021-12-20T12:56:07.548588",
     "exception": false,
     "start_time": "2021-12-20T12:56:07.477158",
     "status": "completed"
    },
    "tags": []
   },
   "outputs": [],
   "source": [
    "df['text']=df['text'].apply(lambda x: re.sub(r'\\d+', '', x))"
   ]
  },
  {
   "cell_type": "code",
   "execution_count": 16,
   "id": "32678b56",
   "metadata": {
    "colab": {
     "base_uri": "https://localhost:8080/",
     "height": 35
    },
    "id": "32678b56",
    "outputId": "a0a6d63f-1d6d-4fcf-efb8-8f55d307abfc",
    "papermill": {
     "duration": 0.044283,
     "end_time": "2021-12-20T12:56:07.630929",
     "exception": false,
     "start_time": "2021-12-20T12:56:07.586646",
     "status": "completed"
    },
    "tags": []
   },
   "outputs": [
    {
     "data": {
      "text/plain": [
       "'rockyfire update  california hwy  closed in both directions due to lake county fire  cafire wildfires'"
      ]
     },
     "execution_count": 16,
     "metadata": {},
     "output_type": "execute_result"
    }
   ],
   "source": [
    "df['text'][5]"
   ]
  },
  {
   "cell_type": "code",
   "execution_count": 17,
   "id": "d7c835dd",
   "metadata": {
    "id": "d7c835dd",
    "papermill": {
     "duration": 8.914887,
     "end_time": "2021-12-20T12:56:19.970688",
     "exception": false,
     "start_time": "2021-12-20T12:56:11.055801",
     "status": "completed"
    },
    "tags": []
   },
   "outputs": [],
   "source": [
    "#!pip install transformers datasets"
   ]
  },
  {
   "cell_type": "code",
   "execution_count": 18,
   "id": "G3wQ7bz6QZRu",
   "metadata": {
    "id": "G3wQ7bz6QZRu"
   },
   "outputs": [
    {
     "name": "stdout",
     "output_type": "stream",
     "text": [
      "Requirement already satisfied: accelerate in c:\\users\\tungb\\anaconda3\\lib\\site-packages (0.20.3)\n",
      "Requirement already satisfied: numpy>=1.17 in c:\\users\\tungb\\anaconda3\\lib\\site-packages (from accelerate) (1.22.1)\n",
      "Requirement already satisfied: packaging>=20.0 in c:\\users\\tungb\\anaconda3\\lib\\site-packages (from accelerate) (21.3)\n",
      "Requirement already satisfied: psutil in c:\\users\\tungb\\anaconda3\\lib\\site-packages (from accelerate) (5.9.0)\n",
      "Requirement already satisfied: pyyaml in c:\\users\\tungb\\anaconda3\\lib\\site-packages (from accelerate) (6.0)\n",
      "Requirement already satisfied: torch>=1.6.0 in c:\\users\\tungb\\anaconda3\\lib\\site-packages (from accelerate) (2.0.1)\n",
      "Requirement already satisfied: pyparsing!=3.0.5,>=2.0.2 in c:\\users\\tungb\\anaconda3\\lib\\site-packages (from packaging>=20.0->accelerate) (3.0.9)\n",
      "Requirement already satisfied: filelock in c:\\users\\tungb\\anaconda3\\lib\\site-packages (from torch>=1.6.0->accelerate) (3.6.0)\n",
      "Requirement already satisfied: typing-extensions in c:\\users\\tungb\\anaconda3\\lib\\site-packages (from torch>=1.6.0->accelerate) (4.3.0)\n",
      "Requirement already satisfied: sympy in c:\\users\\tungb\\anaconda3\\lib\\site-packages (from torch>=1.6.0->accelerate) (1.10.1)\n",
      "Requirement already satisfied: networkx in c:\\users\\tungb\\anaconda3\\lib\\site-packages (from torch>=1.6.0->accelerate) (2.8.4)\n",
      "Requirement already satisfied: jinja2 in c:\\users\\tungb\\anaconda3\\lib\\site-packages (from torch>=1.6.0->accelerate) (2.11.3)\n",
      "Requirement already satisfied: MarkupSafe>=0.23 in c:\\users\\tungb\\anaconda3\\lib\\site-packages (from jinja2->torch>=1.6.0->accelerate) (2.0.1)\n",
      "Requirement already satisfied: mpmath>=0.19 in c:\\users\\tungb\\anaconda3\\lib\\site-packages (from sympy->torch>=1.6.0->accelerate) (1.2.1)\n"
     ]
    }
   ],
   "source": [
    "!pip install accelerate -U"
   ]
  },
  {
   "cell_type": "code",
   "execution_count": 19,
   "id": "306cc38f",
   "metadata": {
    "colab": {
     "base_uri": "https://localhost:8080/"
    },
    "id": "306cc38f",
    "outputId": "90e6cc58-c1c7-4fc0-d6c7-e4d7bb9a82ad",
    "papermill": {
     "duration": 106.482271,
     "end_time": "2021-12-20T12:58:06.522905",
     "exception": false,
     "start_time": "2021-12-20T12:56:20.040634",
     "status": "completed"
    },
    "tags": []
   },
   "outputs": [
    {
     "name": "stderr",
     "output_type": "stream",
     "text": [
      "Some weights of the model checkpoint at bert-large-uncased were not used when initializing BertForSequenceClassification: ['cls.predictions.bias', 'cls.predictions.transform.LayerNorm.weight', 'cls.predictions.transform.dense.weight', 'cls.seq_relationship.bias', 'cls.predictions.transform.LayerNorm.bias', 'cls.predictions.transform.dense.bias', 'cls.seq_relationship.weight']\n",
      "- This IS expected if you are initializing BertForSequenceClassification from the checkpoint of a model trained on another task or with another architecture (e.g. initializing a BertForSequenceClassification model from a BertForPreTraining model).\n",
      "- This IS NOT expected if you are initializing BertForSequenceClassification from the checkpoint of a model that you expect to be exactly identical (initializing a BertForSequenceClassification model from a BertForSequenceClassification model).\n",
      "Some weights of BertForSequenceClassification were not initialized from the model checkpoint at bert-large-uncased and are newly initialized: ['classifier.weight', 'classifier.bias']\n",
      "You should probably TRAIN this model on a down-stream task to be able to use it for predictions and inference.\n"
     ]
    }
   ],
   "source": [
    "from datasets import Dataset\n",
    "from transformers import BertTokenizer, BertForSequenceClassification, TrainingArguments, default_data_collator, Trainer, set_seed\n",
    "set_seed(2023)\n",
    "tokenizer = BertTokenizer.from_pretrained('bert-large-uncased')\n",
    "model = BertForSequenceClassification.from_pretrained('bert-large-uncased')"
   ]
  },
  {
   "cell_type": "code",
   "execution_count": 20,
   "id": "e23ea2ae",
   "metadata": {
    "colab": {
     "base_uri": "https://localhost:8080/"
    },
    "id": "e23ea2ae",
    "outputId": "1aa7a58a-8f9d-45c9-a765-a13c44fe13e8",
    "papermill": {
     "duration": 0.424258,
     "end_time": "2021-12-20T12:58:06.985586",
     "exception": false,
     "start_time": "2021-12-20T12:58:06.561328",
     "status": "completed"
    },
    "tags": []
   },
   "outputs": [
    {
     "name": "stdout",
     "output_type": "stream",
     "text": [
      "Maximum word length: 31\n",
      "Minimum word length: 1\n"
     ]
    }
   ],
   "source": [
    "df['text_lengths'] = df['text'].apply(lambda x: len(x.split()))\n",
    "\n",
    "max_word_length = df['text_lengths'].max()\n",
    "min_word_length = df['text_lengths'].min()\n",
    "\n",
    "df.drop('text_lengths', axis=1, inplace=True)\n",
    "\n",
    "print(\"Maximum word length:\", max_word_length)\n",
    "print(\"Minimum word length:\", min_word_length)"
   ]
  },
  {
   "cell_type": "markdown",
   "id": "hxOlRkkELaU3",
   "metadata": {
    "id": "hxOlRkkELaU3"
   },
   "source": [
    " Giới hạn ký tự trong một tweet là 280 ký tự, ta lấy trung bình một từ tiếng Anh có 5 ký tự thì sẽ có tối đa 56 từ."
   ]
  },
  {
   "cell_type": "code",
   "execution_count": 21,
   "id": "fa715347",
   "metadata": {
    "colab": {
     "base_uri": "https://localhost:8080/",
     "height": 363
    },
    "id": "fa715347",
    "outputId": "1da41657-bd20-4519-c912-cf8a7f61f714",
    "papermill": {
     "duration": 4.609219,
     "end_time": "2021-12-20T12:58:11.633972",
     "exception": false,
     "start_time": "2021-12-20T12:58:07.024753",
     "status": "completed"
    },
    "tags": []
   },
   "outputs": [
    {
     "data": {
      "text/html": [
       "<div>\n",
       "<style scoped>\n",
       "    .dataframe tbody tr th:only-of-type {\n",
       "        vertical-align: middle;\n",
       "    }\n",
       "\n",
       "    .dataframe tbody tr th {\n",
       "        vertical-align: top;\n",
       "    }\n",
       "\n",
       "    .dataframe thead th {\n",
       "        text-align: right;\n",
       "    }\n",
       "</style>\n",
       "<table border=\"1\" class=\"dataframe\">\n",
       "  <thead>\n",
       "    <tr style=\"text-align: right;\">\n",
       "      <th></th>\n",
       "      <th>id</th>\n",
       "      <th>text</th>\n",
       "      <th>target</th>\n",
       "      <th>input_ids</th>\n",
       "    </tr>\n",
       "  </thead>\n",
       "  <tbody>\n",
       "    <tr>\n",
       "      <th>0</th>\n",
       "      <td>1</td>\n",
       "      <td>our deeds are the reason of this earthquake ma...</td>\n",
       "      <td>1</td>\n",
       "      <td>[101, 2256, 15616, 2024, 1996, 3114, 1997, 202...</td>\n",
       "    </tr>\n",
       "    <tr>\n",
       "      <th>1</th>\n",
       "      <td>4</td>\n",
       "      <td>forest fire near la ronge sask canada</td>\n",
       "      <td>1</td>\n",
       "      <td>[101, 3224, 2543, 2379, 2474, 6902, 3351, 2187...</td>\n",
       "    </tr>\n",
       "    <tr>\n",
       "      <th>2</th>\n",
       "      <td>5</td>\n",
       "      <td>all residents asked to shelter in place are be...</td>\n",
       "      <td>1</td>\n",
       "      <td>[101, 2035, 3901, 2356, 2000, 7713, 1999, 2173...</td>\n",
       "    </tr>\n",
       "    <tr>\n",
       "      <th>3</th>\n",
       "      <td>6</td>\n",
       "      <td>people receive wildfires evacuation orders in...</td>\n",
       "      <td>1</td>\n",
       "      <td>[101, 2111, 4374, 3748, 26332, 13982, 4449, 19...</td>\n",
       "    </tr>\n",
       "    <tr>\n",
       "      <th>4</th>\n",
       "      <td>7</td>\n",
       "      <td>just got sent this photo from ruby alaska as s...</td>\n",
       "      <td>1</td>\n",
       "      <td>[101, 2074, 2288, 2741, 2023, 6302, 2013, 1009...</td>\n",
       "    </tr>\n",
       "    <tr>\n",
       "      <th>5</th>\n",
       "      <td>8</td>\n",
       "      <td>rockyfire update  california hwy  closed in bo...</td>\n",
       "      <td>1</td>\n",
       "      <td>[101, 6857, 10273, 10651, 2662, 1044, 18418, 2...</td>\n",
       "    </tr>\n",
       "    <tr>\n",
       "      <th>6</th>\n",
       "      <td>10</td>\n",
       "      <td>flood disaster heavy rain causes flash floodin...</td>\n",
       "      <td>1</td>\n",
       "      <td>[101, 7186, 7071, 3082, 4542, 5320, 5956, 9451...</td>\n",
       "    </tr>\n",
       "    <tr>\n",
       "      <th>7</th>\n",
       "      <td>13</td>\n",
       "      <td>im on top of the hill and i can see a fire in ...</td>\n",
       "      <td>1</td>\n",
       "      <td>[101, 10047, 2006, 2327, 1997, 1996, 2940, 199...</td>\n",
       "    </tr>\n",
       "    <tr>\n",
       "      <th>8</th>\n",
       "      <td>14</td>\n",
       "      <td>theres an emergency evacuation happening now i...</td>\n",
       "      <td>1</td>\n",
       "      <td>[101, 2045, 2015, 2019, 5057, 13982, 6230, 208...</td>\n",
       "    </tr>\n",
       "    <tr>\n",
       "      <th>9</th>\n",
       "      <td>15</td>\n",
       "      <td>im afraid that the tornado is coming to our area</td>\n",
       "      <td>1</td>\n",
       "      <td>[101, 10047, 4452, 2008, 1996, 11352, 2003, 27...</td>\n",
       "    </tr>\n",
       "  </tbody>\n",
       "</table>\n",
       "</div>"
      ],
      "text/plain": [
       "   id                                               text  target  \\\n",
       "0   1  our deeds are the reason of this earthquake ma...       1   \n",
       "1   4              forest fire near la ronge sask canada       1   \n",
       "2   5  all residents asked to shelter in place are be...       1   \n",
       "3   6   people receive wildfires evacuation orders in...       1   \n",
       "4   7  just got sent this photo from ruby alaska as s...       1   \n",
       "5   8  rockyfire update  california hwy  closed in bo...       1   \n",
       "6  10  flood disaster heavy rain causes flash floodin...       1   \n",
       "7  13  im on top of the hill and i can see a fire in ...       1   \n",
       "8  14  theres an emergency evacuation happening now i...       1   \n",
       "9  15   im afraid that the tornado is coming to our area       1   \n",
       "\n",
       "                                           input_ids  \n",
       "0  [101, 2256, 15616, 2024, 1996, 3114, 1997, 202...  \n",
       "1  [101, 3224, 2543, 2379, 2474, 6902, 3351, 2187...  \n",
       "2  [101, 2035, 3901, 2356, 2000, 7713, 1999, 2173...  \n",
       "3  [101, 2111, 4374, 3748, 26332, 13982, 4449, 19...  \n",
       "4  [101, 2074, 2288, 2741, 2023, 6302, 2013, 1009...  \n",
       "5  [101, 6857, 10273, 10651, 2662, 1044, 18418, 2...  \n",
       "6  [101, 7186, 7071, 3082, 4542, 5320, 5956, 9451...  \n",
       "7  [101, 10047, 2006, 2327, 1997, 1996, 2940, 199...  \n",
       "8  [101, 2045, 2015, 2019, 5057, 13982, 6230, 208...  \n",
       "9  [101, 10047, 4452, 2008, 1996, 11352, 2003, 27...  "
      ]
     },
     "execution_count": 21,
     "metadata": {},
     "output_type": "execute_result"
    }
   ],
   "source": [
    "max_word_length=60\n",
    "df['input_ids']=df['text'].apply(lambda x: tokenizer(x, max_length=max_word_length, padding='max_length')['input_ids'])\n",
    "df.head(n=10)"
   ]
  },
  {
   "cell_type": "code",
   "execution_count": 22,
   "id": "50014665",
   "metadata": {
    "colab": {
     "base_uri": "https://localhost:8080/",
     "height": 206
    },
    "id": "50014665",
    "outputId": "046a990d-d2db-4c6d-dcfc-81dbe500732e",
    "papermill": {
     "duration": 0.097748,
     "end_time": "2021-12-20T12:58:11.789023",
     "exception": false,
     "start_time": "2021-12-20T12:58:11.691275",
     "status": "completed"
    },
    "tags": []
   },
   "outputs": [
    {
     "data": {
      "text/html": [
       "<div>\n",
       "<style scoped>\n",
       "    .dataframe tbody tr th:only-of-type {\n",
       "        vertical-align: middle;\n",
       "    }\n",
       "\n",
       "    .dataframe tbody tr th {\n",
       "        vertical-align: top;\n",
       "    }\n",
       "\n",
       "    .dataframe thead th {\n",
       "        text-align: right;\n",
       "    }\n",
       "</style>\n",
       "<table border=\"1\" class=\"dataframe\">\n",
       "  <thead>\n",
       "    <tr style=\"text-align: right;\">\n",
       "      <th></th>\n",
       "      <th>id</th>\n",
       "      <th>text</th>\n",
       "      <th>labels</th>\n",
       "      <th>input_ids</th>\n",
       "    </tr>\n",
       "  </thead>\n",
       "  <tbody>\n",
       "    <tr>\n",
       "      <th>0</th>\n",
       "      <td>1</td>\n",
       "      <td>our deeds are the reason of this earthquake ma...</td>\n",
       "      <td>1</td>\n",
       "      <td>[101, 2256, 15616, 2024, 1996, 3114, 1997, 202...</td>\n",
       "    </tr>\n",
       "    <tr>\n",
       "      <th>1</th>\n",
       "      <td>4</td>\n",
       "      <td>forest fire near la ronge sask canada</td>\n",
       "      <td>1</td>\n",
       "      <td>[101, 3224, 2543, 2379, 2474, 6902, 3351, 2187...</td>\n",
       "    </tr>\n",
       "    <tr>\n",
       "      <th>2</th>\n",
       "      <td>5</td>\n",
       "      <td>all residents asked to shelter in place are be...</td>\n",
       "      <td>1</td>\n",
       "      <td>[101, 2035, 3901, 2356, 2000, 7713, 1999, 2173...</td>\n",
       "    </tr>\n",
       "    <tr>\n",
       "      <th>3</th>\n",
       "      <td>6</td>\n",
       "      <td>people receive wildfires evacuation orders in...</td>\n",
       "      <td>1</td>\n",
       "      <td>[101, 2111, 4374, 3748, 26332, 13982, 4449, 19...</td>\n",
       "    </tr>\n",
       "    <tr>\n",
       "      <th>4</th>\n",
       "      <td>7</td>\n",
       "      <td>just got sent this photo from ruby alaska as s...</td>\n",
       "      <td>1</td>\n",
       "      <td>[101, 2074, 2288, 2741, 2023, 6302, 2013, 1009...</td>\n",
       "    </tr>\n",
       "  </tbody>\n",
       "</table>\n",
       "</div>"
      ],
      "text/plain": [
       "   id                                               text  labels  \\\n",
       "0   1  our deeds are the reason of this earthquake ma...       1   \n",
       "1   4              forest fire near la ronge sask canada       1   \n",
       "2   5  all residents asked to shelter in place are be...       1   \n",
       "3   6   people receive wildfires evacuation orders in...       1   \n",
       "4   7  just got sent this photo from ruby alaska as s...       1   \n",
       "\n",
       "                                           input_ids  \n",
       "0  [101, 2256, 15616, 2024, 1996, 3114, 1997, 202...  \n",
       "1  [101, 3224, 2543, 2379, 2474, 6902, 3351, 2187...  \n",
       "2  [101, 2035, 3901, 2356, 2000, 7713, 1999, 2173...  \n",
       "3  [101, 2111, 4374, 3748, 26332, 13982, 4449, 19...  \n",
       "4  [101, 2074, 2288, 2741, 2023, 6302, 2013, 1009...  "
      ]
     },
     "execution_count": 22,
     "metadata": {},
     "output_type": "execute_result"
    }
   ],
   "source": [
    "df.rename(columns={'target':'labels'}, inplace=True)\n",
    "df.head()"
   ]
  },
  {
   "cell_type": "code",
   "execution_count": 23,
   "id": "d23d1e86",
   "metadata": {
    "colab": {
     "base_uri": "https://localhost:8080/",
     "height": 206
    },
    "id": "d23d1e86",
    "outputId": "46d407b3-824a-493d-d98a-b15ad3c009e8",
    "papermill": {
     "duration": 0.088055,
     "end_time": "2021-12-20T12:58:11.939710",
     "exception": false,
     "start_time": "2021-12-20T12:58:11.851655",
     "status": "completed"
    },
    "tags": []
   },
   "outputs": [
    {
     "data": {
      "text/html": [
       "<div>\n",
       "<style scoped>\n",
       "    .dataframe tbody tr th:only-of-type {\n",
       "        vertical-align: middle;\n",
       "    }\n",
       "\n",
       "    .dataframe tbody tr th {\n",
       "        vertical-align: top;\n",
       "    }\n",
       "\n",
       "    .dataframe thead th {\n",
       "        text-align: right;\n",
       "    }\n",
       "</style>\n",
       "<table border=\"1\" class=\"dataframe\">\n",
       "  <thead>\n",
       "    <tr style=\"text-align: right;\">\n",
       "      <th></th>\n",
       "      <th>input_ids</th>\n",
       "      <th>labels</th>\n",
       "    </tr>\n",
       "  </thead>\n",
       "  <tbody>\n",
       "    <tr>\n",
       "      <th>0</th>\n",
       "      <td>[101, 2256, 15616, 2024, 1996, 3114, 1997, 202...</td>\n",
       "      <td>1</td>\n",
       "    </tr>\n",
       "    <tr>\n",
       "      <th>1</th>\n",
       "      <td>[101, 3224, 2543, 2379, 2474, 6902, 3351, 2187...</td>\n",
       "      <td>1</td>\n",
       "    </tr>\n",
       "    <tr>\n",
       "      <th>2</th>\n",
       "      <td>[101, 2035, 3901, 2356, 2000, 7713, 1999, 2173...</td>\n",
       "      <td>1</td>\n",
       "    </tr>\n",
       "    <tr>\n",
       "      <th>3</th>\n",
       "      <td>[101, 2111, 4374, 3748, 26332, 13982, 4449, 19...</td>\n",
       "      <td>1</td>\n",
       "    </tr>\n",
       "    <tr>\n",
       "      <th>4</th>\n",
       "      <td>[101, 2074, 2288, 2741, 2023, 6302, 2013, 1009...</td>\n",
       "      <td>1</td>\n",
       "    </tr>\n",
       "  </tbody>\n",
       "</table>\n",
       "</div>"
      ],
      "text/plain": [
       "                                           input_ids  labels\n",
       "0  [101, 2256, 15616, 2024, 1996, 3114, 1997, 202...       1\n",
       "1  [101, 3224, 2543, 2379, 2474, 6902, 3351, 2187...       1\n",
       "2  [101, 2035, 3901, 2356, 2000, 7713, 1999, 2173...       1\n",
       "3  [101, 2111, 4374, 3748, 26332, 13982, 4449, 19...       1\n",
       "4  [101, 2074, 2288, 2741, 2023, 6302, 2013, 1009...       1"
      ]
     },
     "execution_count": 23,
     "metadata": {},
     "output_type": "execute_result"
    }
   ],
   "source": [
    "df = df[['input_ids', 'labels']]\n",
    "df.head()"
   ]
  },
  {
   "cell_type": "code",
   "execution_count": 24,
   "id": "0b58f1dd",
   "metadata": {
    "id": "0b58f1dd",
    "papermill": {
     "duration": 0.074238,
     "end_time": "2021-12-20T12:58:12.080496",
     "exception": false,
     "start_time": "2021-12-20T12:58:12.006258",
     "status": "completed"
    },
    "tags": []
   },
   "outputs": [],
   "source": [
    "train_df = df[:-int(len(df)*0.01)].reset_index(drop=True)\n",
    "test_df = df[-int(len(df)*0.01):].reset_index(drop=True)"
   ]
  },
  {
   "cell_type": "code",
   "execution_count": 25,
   "id": "65ed9251",
   "metadata": {
    "colab": {
     "base_uri": "https://localhost:8080/"
    },
    "id": "65ed9251",
    "outputId": "6ba80c69-1414-470a-cc6c-d7acbfb1130e",
    "papermill": {
     "duration": 0.074418,
     "end_time": "2021-12-20T12:58:12.220066",
     "exception": false,
     "start_time": "2021-12-20T12:58:12.145648",
     "status": "completed"
    },
    "tags": []
   },
   "outputs": [
    {
     "data": {
      "text/plain": [
       "(7537, 76)"
      ]
     },
     "execution_count": 25,
     "metadata": {},
     "output_type": "execute_result"
    }
   ],
   "source": [
    "len(train_df), len(test_df)"
   ]
  },
  {
   "cell_type": "code",
   "execution_count": 26,
   "id": "ac9e5cc3",
   "metadata": {
    "id": "ac9e5cc3",
    "papermill": {
     "duration": 0.159683,
     "end_time": "2021-12-20T12:58:12.453528",
     "exception": false,
     "start_time": "2021-12-20T12:58:12.293845",
     "status": "completed"
    },
    "tags": []
   },
   "outputs": [],
   "source": [
    "train_ds = Dataset.from_pandas(train_df)\n",
    "test_ds = Dataset.from_pandas(test_df)"
   ]
  },
  {
   "cell_type": "code",
   "execution_count": 27,
   "id": "aadc1c45",
   "metadata": {
    "colab": {
     "base_uri": "https://localhost:8080/"
    },
    "id": "aadc1c45",
    "outputId": "10701b6e-46d1-4c4d-81cd-72c0d1d44019",
    "papermill": {
     "duration": 0.077375,
     "end_time": "2021-12-20T12:58:12.596754",
     "exception": false,
     "start_time": "2021-12-20T12:58:12.519379",
     "status": "completed"
    },
    "tags": []
   },
   "outputs": [
    {
     "data": {
      "text/plain": [
       "Dataset({\n",
       "    features: ['input_ids', 'labels'],\n",
       "    num_rows: 7537\n",
       "})"
      ]
     },
     "execution_count": 27,
     "metadata": {},
     "output_type": "execute_result"
    }
   ],
   "source": [
    "train_ds"
   ]
  },
  {
   "cell_type": "code",
   "execution_count": 28,
   "id": "6485d0cf",
   "metadata": {
    "id": "6485d0cf",
    "papermill": {
     "duration": 6.824604,
     "end_time": "2021-12-20T12:58:19.486949",
     "exception": false,
     "start_time": "2021-12-20T12:58:12.662345",
     "status": "completed"
    },
    "tags": []
   },
   "outputs": [],
   "source": [
    "batch_size = 8 #16\n",
    "\n",
    "args = TrainingArguments(\n",
    "    'nlp-getting-started',\n",
    "    evaluation_strategy = 'epoch',\n",
    "    save_strategy = 'epoch',\n",
    "    learning_rate=2e-5,\n",
    "    gradient_accumulation_steps=8,\n",
    "    num_train_epochs=3,\n",
    "    warmup_ratio=0.1,\n",
    "    weight_decay=0.01,\n",
    "    per_device_train_batch_size=batch_size,\n",
    "    per_device_eval_batch_size=batch_size,\n",
    ")\n",
    "\n",
    "data_collator = default_data_collator\n",
    "trainer = Trainer(\n",
    "    model=model,\n",
    "    args=args,\n",
    "    train_dataset=train_ds,\n",
    "    eval_dataset=test_ds,\n",
    "    data_collator=data_collator,\n",
    "    tokenizer=tokenizer,\n",
    ")"
   ]
  },
  {
   "cell_type": "code",
   "execution_count": 29,
   "id": "4fe988b9",
   "metadata": {
    "colab": {
     "base_uri": "https://localhost:8080/",
     "height": 221
    },
    "id": "4fe988b9",
    "outputId": "fc9240e1-8b2c-43d5-f8f5-f8b8b6fc53f6",
    "papermill": {
     "duration": 554.080469,
     "end_time": "2021-12-20T13:07:33.608575",
     "exception": false,
     "start_time": "2021-12-20T12:58:19.528106",
     "status": "completed"
    },
    "tags": []
   },
   "outputs": [
    {
     "ename": "OutOfMemoryError",
     "evalue": "CUDA out of memory. Tried to allocate 20.00 MiB (GPU 0; 4.00 GiB total capacity; 3.35 GiB already allocated; 0 bytes free; 3.43 GiB reserved in total by PyTorch) If reserved memory is >> allocated memory try setting max_split_size_mb to avoid fragmentation.  See documentation for Memory Management and PYTORCH_CUDA_ALLOC_CONF",
     "output_type": "error",
     "traceback": [
      "\u001b[1;31m---------------------------------------------------------------------------\u001b[0m",
      "\u001b[1;31mOutOfMemoryError\u001b[0m                          Traceback (most recent call last)",
      "\u001b[1;32m~\\AppData\\Local\\Temp\\ipykernel_21176\\4032920361.py\u001b[0m in \u001b[0;36m<module>\u001b[1;34m\u001b[0m\n\u001b[1;32m----> 1\u001b[1;33m \u001b[0mtrainer\u001b[0m\u001b[1;33m.\u001b[0m\u001b[0mtrain\u001b[0m\u001b[1;33m(\u001b[0m\u001b[1;33m)\u001b[0m\u001b[1;33m\u001b[0m\u001b[1;33m\u001b[0m\u001b[0m\n\u001b[0m",
      "\u001b[1;32m~\\anaconda3\\lib\\site-packages\\transformers\\trainer.py\u001b[0m in \u001b[0;36mtrain\u001b[1;34m(self, resume_from_checkpoint, trial, ignore_keys_for_eval, **kwargs)\u001b[0m\n\u001b[0;32m   1643\u001b[0m             \u001b[0mself\u001b[0m\u001b[1;33m.\u001b[0m\u001b[0m_inner_training_loop\u001b[0m\u001b[1;33m,\u001b[0m \u001b[0mself\u001b[0m\u001b[1;33m.\u001b[0m\u001b[0m_train_batch_size\u001b[0m\u001b[1;33m,\u001b[0m \u001b[0margs\u001b[0m\u001b[1;33m.\u001b[0m\u001b[0mauto_find_batch_size\u001b[0m\u001b[1;33m\u001b[0m\u001b[1;33m\u001b[0m\u001b[0m\n\u001b[0;32m   1644\u001b[0m         )\n\u001b[1;32m-> 1645\u001b[1;33m         return inner_training_loop(\n\u001b[0m\u001b[0;32m   1646\u001b[0m             \u001b[0margs\u001b[0m\u001b[1;33m=\u001b[0m\u001b[0margs\u001b[0m\u001b[1;33m,\u001b[0m\u001b[1;33m\u001b[0m\u001b[1;33m\u001b[0m\u001b[0m\n\u001b[0;32m   1647\u001b[0m             \u001b[0mresume_from_checkpoint\u001b[0m\u001b[1;33m=\u001b[0m\u001b[0mresume_from_checkpoint\u001b[0m\u001b[1;33m,\u001b[0m\u001b[1;33m\u001b[0m\u001b[1;33m\u001b[0m\u001b[0m\n",
      "\u001b[1;32m~\\anaconda3\\lib\\site-packages\\transformers\\trainer.py\u001b[0m in \u001b[0;36m_inner_training_loop\u001b[1;34m(self, batch_size, args, resume_from_checkpoint, trial, ignore_keys_for_eval)\u001b[0m\n\u001b[0;32m   1927\u001b[0m \u001b[1;33m\u001b[0m\u001b[0m\n\u001b[0;32m   1928\u001b[0m                 \u001b[1;32mwith\u001b[0m \u001b[0mself\u001b[0m\u001b[1;33m.\u001b[0m\u001b[0maccelerator\u001b[0m\u001b[1;33m.\u001b[0m\u001b[0maccumulate\u001b[0m\u001b[1;33m(\u001b[0m\u001b[0mmodel\u001b[0m\u001b[1;33m)\u001b[0m\u001b[1;33m:\u001b[0m\u001b[1;33m\u001b[0m\u001b[1;33m\u001b[0m\u001b[0m\n\u001b[1;32m-> 1929\u001b[1;33m                     \u001b[0mtr_loss_step\u001b[0m \u001b[1;33m=\u001b[0m \u001b[0mself\u001b[0m\u001b[1;33m.\u001b[0m\u001b[0mtraining_step\u001b[0m\u001b[1;33m(\u001b[0m\u001b[0mmodel\u001b[0m\u001b[1;33m,\u001b[0m \u001b[0minputs\u001b[0m\u001b[1;33m)\u001b[0m\u001b[1;33m\u001b[0m\u001b[1;33m\u001b[0m\u001b[0m\n\u001b[0m\u001b[0;32m   1930\u001b[0m \u001b[1;33m\u001b[0m\u001b[0m\n\u001b[0;32m   1931\u001b[0m                 if (\n",
      "\u001b[1;32m~\\anaconda3\\lib\\site-packages\\transformers\\trainer.py\u001b[0m in \u001b[0;36mtraining_step\u001b[1;34m(self, model, inputs)\u001b[0m\n\u001b[0;32m   2759\u001b[0m                 \u001b[0mscaled_loss\u001b[0m\u001b[1;33m.\u001b[0m\u001b[0mbackward\u001b[0m\u001b[1;33m(\u001b[0m\u001b[1;33m)\u001b[0m\u001b[1;33m\u001b[0m\u001b[1;33m\u001b[0m\u001b[0m\n\u001b[0;32m   2760\u001b[0m         \u001b[1;32melse\u001b[0m\u001b[1;33m:\u001b[0m\u001b[1;33m\u001b[0m\u001b[1;33m\u001b[0m\u001b[0m\n\u001b[1;32m-> 2761\u001b[1;33m             \u001b[0mself\u001b[0m\u001b[1;33m.\u001b[0m\u001b[0maccelerator\u001b[0m\u001b[1;33m.\u001b[0m\u001b[0mbackward\u001b[0m\u001b[1;33m(\u001b[0m\u001b[0mloss\u001b[0m\u001b[1;33m)\u001b[0m\u001b[1;33m\u001b[0m\u001b[1;33m\u001b[0m\u001b[0m\n\u001b[0m\u001b[0;32m   2762\u001b[0m \u001b[1;33m\u001b[0m\u001b[0m\n\u001b[0;32m   2763\u001b[0m         \u001b[1;32mreturn\u001b[0m \u001b[0mloss\u001b[0m\u001b[1;33m.\u001b[0m\u001b[0mdetach\u001b[0m\u001b[1;33m(\u001b[0m\u001b[1;33m)\u001b[0m \u001b[1;33m/\u001b[0m \u001b[0mself\u001b[0m\u001b[1;33m.\u001b[0m\u001b[0margs\u001b[0m\u001b[1;33m.\u001b[0m\u001b[0mgradient_accumulation_steps\u001b[0m\u001b[1;33m\u001b[0m\u001b[1;33m\u001b[0m\u001b[0m\n",
      "\u001b[1;32m~\\anaconda3\\lib\\site-packages\\accelerate\\accelerator.py\u001b[0m in \u001b[0;36mbackward\u001b[1;34m(self, loss, **kwargs)\u001b[0m\n\u001b[0;32m   1819\u001b[0m             \u001b[0mself\u001b[0m\u001b[1;33m.\u001b[0m\u001b[0mscaler\u001b[0m\u001b[1;33m.\u001b[0m\u001b[0mscale\u001b[0m\u001b[1;33m(\u001b[0m\u001b[0mloss\u001b[0m\u001b[1;33m)\u001b[0m\u001b[1;33m.\u001b[0m\u001b[0mbackward\u001b[0m\u001b[1;33m(\u001b[0m\u001b[1;33m**\u001b[0m\u001b[0mkwargs\u001b[0m\u001b[1;33m)\u001b[0m\u001b[1;33m\u001b[0m\u001b[1;33m\u001b[0m\u001b[0m\n\u001b[0;32m   1820\u001b[0m         \u001b[1;32melse\u001b[0m\u001b[1;33m:\u001b[0m\u001b[1;33m\u001b[0m\u001b[1;33m\u001b[0m\u001b[0m\n\u001b[1;32m-> 1821\u001b[1;33m             \u001b[0mloss\u001b[0m\u001b[1;33m.\u001b[0m\u001b[0mbackward\u001b[0m\u001b[1;33m(\u001b[0m\u001b[1;33m**\u001b[0m\u001b[0mkwargs\u001b[0m\u001b[1;33m)\u001b[0m\u001b[1;33m\u001b[0m\u001b[1;33m\u001b[0m\u001b[0m\n\u001b[0m\u001b[0;32m   1822\u001b[0m \u001b[1;33m\u001b[0m\u001b[0m\n\u001b[0;32m   1823\u001b[0m     \u001b[1;32mdef\u001b[0m \u001b[0munscale_gradients\u001b[0m\u001b[1;33m(\u001b[0m\u001b[0mself\u001b[0m\u001b[1;33m,\u001b[0m \u001b[0moptimizer\u001b[0m\u001b[1;33m=\u001b[0m\u001b[1;32mNone\u001b[0m\u001b[1;33m)\u001b[0m\u001b[1;33m:\u001b[0m\u001b[1;33m\u001b[0m\u001b[1;33m\u001b[0m\u001b[0m\n",
      "\u001b[1;32m~\\anaconda3\\lib\\site-packages\\torch\\_tensor.py\u001b[0m in \u001b[0;36mbackward\u001b[1;34m(self, gradient, retain_graph, create_graph, inputs)\u001b[0m\n\u001b[0;32m    485\u001b[0m                 \u001b[0minputs\u001b[0m\u001b[1;33m=\u001b[0m\u001b[0minputs\u001b[0m\u001b[1;33m,\u001b[0m\u001b[1;33m\u001b[0m\u001b[1;33m\u001b[0m\u001b[0m\n\u001b[0;32m    486\u001b[0m             )\n\u001b[1;32m--> 487\u001b[1;33m         torch.autograd.backward(\n\u001b[0m\u001b[0;32m    488\u001b[0m             \u001b[0mself\u001b[0m\u001b[1;33m,\u001b[0m \u001b[0mgradient\u001b[0m\u001b[1;33m,\u001b[0m \u001b[0mretain_graph\u001b[0m\u001b[1;33m,\u001b[0m \u001b[0mcreate_graph\u001b[0m\u001b[1;33m,\u001b[0m \u001b[0minputs\u001b[0m\u001b[1;33m=\u001b[0m\u001b[0minputs\u001b[0m\u001b[1;33m\u001b[0m\u001b[1;33m\u001b[0m\u001b[0m\n\u001b[0;32m    489\u001b[0m         )\n",
      "\u001b[1;32m~\\anaconda3\\lib\\site-packages\\torch\\autograd\\__init__.py\u001b[0m in \u001b[0;36mbackward\u001b[1;34m(tensors, grad_tensors, retain_graph, create_graph, grad_variables, inputs)\u001b[0m\n\u001b[0;32m    198\u001b[0m     \u001b[1;31m# some Python versions print out the first line of a multi-line function\u001b[0m\u001b[1;33m\u001b[0m\u001b[1;33m\u001b[0m\u001b[0m\n\u001b[0;32m    199\u001b[0m     \u001b[1;31m# calls in the traceback and some print out the last line\u001b[0m\u001b[1;33m\u001b[0m\u001b[1;33m\u001b[0m\u001b[0m\n\u001b[1;32m--> 200\u001b[1;33m     Variable._execution_engine.run_backward(  # Calls into the C++ engine to run the backward pass\n\u001b[0m\u001b[0;32m    201\u001b[0m         \u001b[0mtensors\u001b[0m\u001b[1;33m,\u001b[0m \u001b[0mgrad_tensors_\u001b[0m\u001b[1;33m,\u001b[0m \u001b[0mretain_graph\u001b[0m\u001b[1;33m,\u001b[0m \u001b[0mcreate_graph\u001b[0m\u001b[1;33m,\u001b[0m \u001b[0minputs\u001b[0m\u001b[1;33m,\u001b[0m\u001b[1;33m\u001b[0m\u001b[1;33m\u001b[0m\u001b[0m\n\u001b[0;32m    202\u001b[0m         allow_unreachable=True, accumulate_grad=True)  # Calls into the C++ engine to run the backward pass\n",
      "\u001b[1;31mOutOfMemoryError\u001b[0m: CUDA out of memory. Tried to allocate 20.00 MiB (GPU 0; 4.00 GiB total capacity; 3.35 GiB already allocated; 0 bytes free; 3.43 GiB reserved in total by PyTorch) If reserved memory is >> allocated memory try setting max_split_size_mb to avoid fragmentation.  See documentation for Memory Management and PYTORCH_CUDA_ALLOC_CONF"
     ]
    }
   ],
   "source": [
    "trainer.train()"
   ]
  },
  {
   "cell_type": "code",
   "execution_count": null,
   "id": "d55706b9",
   "metadata": {
    "id": "d55706b9",
    "papermill": {
     "duration": 3.48276,
     "end_time": "2021-12-20T13:07:37.211259",
     "exception": false,
     "start_time": "2021-12-20T13:07:33.728499",
     "status": "completed"
    },
    "tags": []
   },
   "outputs": [],
   "source": [
    "import numpy as np\n",
    "from datasets import load_metric\n",
    "\n",
    "metric = load_metric(\"accuracy\")\n",
    "\n",
    "def compute_metrics(eval_pred):\n",
    "    logits, labels = eval_pred\n",
    "    predictions = np.argmax(logits, axis=-1)\n",
    "    return metric.compute(predictions=predictions, references=labels)"
   ]
  },
  {
   "cell_type": "code",
   "execution_count": null,
   "id": "731ad245",
   "metadata": {
    "colab": {
     "base_uri": "https://localhost:8080/",
     "height": 124
    },
    "id": "731ad245",
    "outputId": "f7478bce-e16b-4cb5-abde-6f489ecf8d06",
    "papermill": {
     "duration": 1.449907,
     "end_time": "2021-12-20T13:07:38.703476",
     "exception": false,
     "start_time": "2021-12-20T13:07:37.253569",
     "status": "completed"
    },
    "tags": []
   },
   "outputs": [],
   "source": [
    "trainer = Trainer(\n",
    "    model=model,\n",
    "    args=args,\n",
    "    train_dataset=train_ds,\n",
    "    eval_dataset=test_ds,\n",
    "    compute_metrics=compute_metrics,\n",
    ")\n",
    "trainer.evaluate()"
   ]
  },
  {
   "cell_type": "code",
   "execution_count": null,
   "id": "44c776aa",
   "metadata": {
    "colab": {
     "base_uri": "https://localhost:8080/",
     "height": 206
    },
    "id": "44c776aa",
    "outputId": "72e091e0-52a0-4885-d02f-58ce561675fb",
    "papermill": {
     "duration": 0.580044,
     "end_time": "2021-12-20T13:07:39.329334",
     "exception": false,
     "start_time": "2021-12-20T13:07:38.749290",
     "status": "completed"
    },
    "tags": []
   },
   "outputs": [],
   "source": [
    "df_submission = pd.read_csv('test.csv')\n",
    "df_submission.head()"
   ]
  },
  {
   "cell_type": "code",
   "execution_count": null,
   "id": "9NOml88lc_OB",
   "metadata": {
    "id": "9NOml88lc_OB"
   },
   "outputs": [],
   "source": [
    "df_submission['text']=df_submission['text'].apply(lambda x: x.lower())\n",
    "df_submission['text']=df_submission['text'].apply(lambda x: x.replace(\"#\", \"\"))\n",
    "df_submission['text']=df_submission['text'].apply(lambda x: re.sub(r'@\\w+\\s*', '', x))\n",
    "df_submission['text']=df_submission['text'].apply(lambda x: re.sub(r'http\\S+|www\\S+', '', x))\n",
    "df_submission['text']=df_submission['text'].apply(lambda x: re.sub(r'[^\\w\\s]', '', x))\n",
    "df_submission['text']=df_submission['text'].apply(lambda x: re.sub(r'\\d+', '', x))"
   ]
  },
  {
   "cell_type": "code",
   "execution_count": null,
   "id": "7c885216",
   "metadata": {
    "colab": {
     "base_uri": "https://localhost:8080/",
     "height": 206
    },
    "id": "7c885216",
    "outputId": "eaeadb9e-e5f6-4fa4-d393-ae8510efbc0c",
    "papermill": {
     "duration": 2.612888,
     "end_time": "2021-12-20T13:07:43.940939",
     "exception": false,
     "start_time": "2021-12-20T13:07:41.328051",
     "status": "completed"
    },
    "tags": []
   },
   "outputs": [],
   "source": [
    "df_submission['input_ids']=df_submission['text'].apply(lambda x: tokenizer(x, max_length=max_word_length, padding='max_length')['input_ids'])\n",
    "df_submission.head()"
   ]
  },
  {
   "cell_type": "code",
   "execution_count": null,
   "id": "f98fcdec",
   "metadata": {
    "colab": {
     "base_uri": "https://localhost:8080/",
     "height": 206
    },
    "id": "f98fcdec",
    "outputId": "9f35a777-b010-4ad2-d0e3-3020fd3c18fb",
    "papermill": {
     "duration": 5.00385,
     "end_time": "2021-12-20T13:07:48.992819",
     "exception": false,
     "start_time": "2021-12-20T13:07:43.988969",
     "status": "completed"
    },
    "tags": []
   },
   "outputs": [],
   "source": [
    "df_submission=df_submission[['input_ids']]\n",
    "df_submission.head()"
   ]
  },
  {
   "cell_type": "code",
   "execution_count": null,
   "id": "fd4482a1",
   "metadata": {
    "colab": {
     "base_uri": "https://localhost:8080/"
    },
    "id": "fd4482a1",
    "outputId": "8648dc7d-9d40-4e4e-c06a-02be0f6efaeb",
    "papermill": {
     "duration": 0.073525,
     "end_time": "2021-12-20T13:07:49.112271",
     "exception": false,
     "start_time": "2021-12-20T13:07:49.038746",
     "status": "completed"
    },
    "tags": []
   },
   "outputs": [],
   "source": [
    "output_ds = Dataset.from_pandas(df_submission)\n",
    "output_ds"
   ]
  },
  {
   "cell_type": "code",
   "execution_count": null,
   "id": "5164cbc5",
   "metadata": {
    "colab": {
     "base_uri": "https://localhost:8080/",
     "height": 17
    },
    "id": "5164cbc5",
    "outputId": "a6806c86-9454-47c0-8cde-0ff4a452f7c3",
    "papermill": {
     "duration": 22.7322,
     "end_time": "2021-12-20T13:08:11.889215",
     "exception": false,
     "start_time": "2021-12-20T13:07:49.157015",
     "status": "completed"
    },
    "tags": []
   },
   "outputs": [],
   "source": [
    "outputs=trainer.predict(output_ds)"
   ]
  },
  {
   "cell_type": "code",
   "execution_count": null,
   "id": "0fc73d6a",
   "metadata": {
    "colab": {
     "base_uri": "https://localhost:8080/"
    },
    "id": "0fc73d6a",
    "outputId": "7f85c6b3-6168-4431-ed48-eb37a44b4a5c",
    "papermill": {
     "duration": 0.053385,
     "end_time": "2021-12-20T13:08:11.988541",
     "exception": false,
     "start_time": "2021-12-20T13:08:11.935156",
     "status": "completed"
    },
    "tags": []
   },
   "outputs": [],
   "source": [
    "outputs.predictions.argmax(1)"
   ]
  },
  {
   "cell_type": "code",
   "execution_count": null,
   "id": "ee9a94f4",
   "metadata": {
    "id": "ee9a94f4",
    "papermill": {
     "duration": 0.06387,
     "end_time": "2021-12-20T13:08:12.097846",
     "exception": false,
     "start_time": "2021-12-20T13:08:12.033976",
     "status": "completed"
    },
    "tags": []
   },
   "outputs": [],
   "source": [
    "submission = pd.read_csv('sample_submission.csv')"
   ]
  },
  {
   "cell_type": "code",
   "execution_count": null,
   "id": "fa08d059",
   "metadata": {
    "colab": {
     "base_uri": "https://localhost:8080/",
     "height": 206
    },
    "id": "fa08d059",
    "outputId": "e104d72a-4761-45c1-8330-bb879586a800",
    "papermill": {
     "duration": 0.063113,
     "end_time": "2021-12-20T13:08:12.206335",
     "exception": false,
     "start_time": "2021-12-20T13:08:12.143222",
     "status": "completed"
    },
    "tags": []
   },
   "outputs": [],
   "source": [
    "submission['target'] = outputs.predictions.argmax(1)\n",
    "submission.head()"
   ]
  },
  {
   "cell_type": "code",
   "execution_count": null,
   "id": "4b00d613",
   "metadata": {
    "id": "4b00d613",
    "papermill": {
     "duration": 0.065737,
     "end_time": "2021-12-20T13:08:12.323729",
     "exception": false,
     "start_time": "2021-12-20T13:08:12.257992",
     "status": "completed"
    },
    "tags": []
   },
   "outputs": [],
   "source": [
    "submission.to_csv('submission.csv', index=False)"
   ]
  }
 ],
 "metadata": {
  "accelerator": "GPU",
  "colab": {
   "gpuType": "T4",
   "provenance": []
  },
  "kernelspec": {
   "display_name": "Python 3 (ipykernel)",
   "language": "python",
   "name": "python3"
  },
  "language_info": {
   "codemirror_mode": {
    "name": "ipython",
    "version": 3
   },
   "file_extension": ".py",
   "mimetype": "text/x-python",
   "name": "python",
   "nbconvert_exporter": "python",
   "pygments_lexer": "ipython3",
   "version": "3.9.13"
  },
  "papermill": {
   "default_parameters": {},
   "duration": 737.986413,
   "end_time": "2021-12-20T13:08:15.932885",
   "environment_variables": {},
   "exception": null,
   "input_path": "__notebook__.ipynb",
   "output_path": "__notebook__.ipynb",
   "parameters": {},
   "start_time": "2021-12-20T12:55:57.946472",
   "version": "2.3.3"
  }
 },
 "nbformat": 4,
 "nbformat_minor": 5
}
